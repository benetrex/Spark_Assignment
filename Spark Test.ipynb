{
 "cells": [
  {
   "cell_type": "markdown",
   "metadata": {},
   "source": [
    "# HDFS File Evaluation with PySpark\n",
    "-----------------------------------------------------"
   ]
  },
  {
   "cell_type": "markdown",
   "metadata": {},
   "source": [
    "## Required modules:\n",
    "### PySpark\n",
    "- For Spark integration with Python\n",
    "\n",
    "### Matplotlib\n",
    "- Matplotlib and numpy for data visualization - with notebook parameter for better notebook integration\n",
    "\n",
    "### PyArrow\n",
    "- For HDFS connection"
   ]
  },
  {
   "cell_type": "code",
   "execution_count": null,
   "metadata": {},
   "outputs": [],
   "source": [
    "%pylab --no-import-all notebook\n",
    "import pyspark\n",
    "import pyarrow as pa"
   ]
  },
  {
   "cell_type": "markdown",
   "metadata": {},
   "source": [
    "## Functions\n",
    "| Function name                                | Description                         |\n",
    "| -------------------------------------------- | ----------------------------------- |\n",
    "| `to_num(string)`                             | String to number conversion         |\n",
    "| `get_raw_rdd_from_file(filename, root_path)` | Returns file from HDFS as Spark RDD |\n",
    "| `clean_rdd(rdd)`                             | Removing invalid entries from RDD   |\n",
    "| `get_rdd_from_file(filename, root_path)`     | Returning a clean RDD from a file  in HDFS (`root_path`)|"
   ]
  },
  {
   "cell_type": "code",
   "execution_count": null,
   "metadata": {},
   "outputs": [],
   "source": [
    "def to_num(string):\n",
    "    \"\"\"Converts input string to number (int or float)\"\"\"\n",
    "    try:\n",
    "        return int(string)\n",
    "    except ValueError:\n",
    "        try:\n",
    "            return float(string)\n",
    "        except:\n",
    "            return None\n",
    "\n",
    "def get_raw_rdd_from_file(hdfs_file_name, hdfs_root_path='hdfs://192.168.178.19:9000/'):\n",
    "    \"\"\"Returns a resilient distributed dataset containing the lines of a file in the given hdfs path\"\"\"\n",
    "    return sc.textFile(hdfs_root_path + hdfs_file_name, 1)\n",
    "\n",
    "def clean_rdd(rdd):\n",
    "    \"\"\"Removes lines where:\n",
    "    1. Ther is an invalid value in row (None or value exceeds limits of possible values)\n",
    "    2. The index is smaller than the first index of the dataset\"\"\"\n",
    "    start_index = rdd.first()[0]\n",
    "    return rdd.filter(lambda x: None not in x and\n",
    "                                x[0] > start_index and \n",
    "                                x[1] > 0 and \n",
    "                                0 <= x[3] <= 1023 and \n",
    "                                0 <= x[4] <= 1023 and \n",
    "                                0 <= x[5] <= 1023)\n",
    "\n",
    "def get_rdd_from_file(hdfs_file_name, hdfs_root_path='hdfs://192.168.178.19:9000/'):\n",
    "    \"\"\"Applying the following to clean the data\n",
    "    1. Check if line contains exactly 6 values\n",
    "    2. Splitting the line and convert substrings into numbers\n",
    "    3. Checking the outcome values of the cleaned data for invalid entries\"\"\"\n",
    "    return clean_rdd(sc.textFile(hdfs_root_path + hdfs_file_name, 1).\\\n",
    "                                 filter(lambda x: len(x.split('\\t')) == 6).\\\n",
    "                                 map(lambda x: x.split('\\t')).\\\n",
    "                                 map(lambda x: tuple(map(to_num, x))))"
   ]
  },
  {
   "cell_type": "markdown",
   "metadata": {},
   "source": [
    "## Spark & HDFS Connections\n",
    "\n",
    "\n",
    "Establishing connections to: \n",
    " - Spark using `PySpark`\n",
    " - Hadoop Distributed File System using `PyArrow`"
   ]
  },
  {
   "cell_type": "code",
   "execution_count": null,
   "metadata": {},
   "outputs": [],
   "source": [
    "# Creating Spark Context \n",
    "sc = pyspark.SparkContext()\n",
    "print('Spark connection established')\n",
    "\n",
    "# Starting Spark session, so data can be processed as data frame\n",
    "spark = pyspark.sql.SparkSession(sc)\n",
    "print('Spark session enabled')\n",
    "\n",
    "# Connecting to HDFS\n",
    "fs = pa.hdfs.connect('master', 9000)\n",
    "print('HDFS Connection established')"
   ]
  },
  {
   "cell_type": "markdown",
   "metadata": {},
   "source": [
    "## Data Processing"
   ]
  },
  {
   "cell_type": "code",
   "execution_count": null,
   "metadata": {},
   "outputs": [],
   "source": [
    "# Getting files from HDFS\n",
    "filenames = fs.ls('/flume')"
   ]
  },
  {
   "cell_type": "code",
   "execution_count": null,
   "metadata": {},
   "outputs": [],
   "source": [
    "# Loading the first file to Spark RDD\n",
    "rdd = get_rdd_from_file(filenames[0])\n",
    "rdd.first()"
   ]
  },
  {
   "cell_type": "code",
   "execution_count": null,
   "metadata": {},
   "outputs": [],
   "source": [
    "df = rdd.toDF(schema=['index', 'timestamp', 'temperature', 'red', 'green', 'blue'])"
   ]
  },
  {
   "cell_type": "code",
   "execution_count": null,
   "metadata": {},
   "outputs": [],
   "source": [
    "# Removal of Entries where temperature exceeds limits\n",
    "df = df.filter((df.temperature < 50)&\n",
    "               (df.temperature > -30))"
   ]
  },
  {
   "cell_type": "code",
   "execution_count": null,
   "metadata": {},
   "outputs": [],
   "source": [
    "pd_df = df.toPandas()"
   ]
  },
  {
   "cell_type": "code",
   "execution_count": null,
   "metadata": {},
   "outputs": [],
   "source": [
    "first_ts = pd_df.head(1).timestamp.values[0]\n",
    "last_ts = pd_df.tail(1).timestamp.values[0]"
   ]
  },
  {
   "cell_type": "code",
   "execution_count": null,
   "metadata": {},
   "outputs": [],
   "source": [
    "pd_df = pd_df[(pd_df.timestamp < last_ts) & (pd_df.timestamp > first_ts)]"
   ]
  },
  {
   "cell_type": "markdown",
   "metadata": {},
   "source": [
    "## Data Visualization"
   ]
  },
  {
   "cell_type": "code",
   "execution_count": null,
   "metadata": {},
   "outputs": [],
   "source": [
    "f, axes = plt.subplots(nrows=2, ncols=1, sharex=True)\n",
    "axes[0].plot(pd_df['timestamp'] / 1000 / 60, pd_df['temperature'], 'm', label='Temperature [°C]')\n",
    "axes[1].plot(pd_df['timestamp'] / 1000 / 60, pd_df['red'],   'r', label='Red value in light')\n",
    "axes[1].plot(pd_df['timestamp'] / 1000 / 60, pd_df['green'], 'g', label='Green value in light')\n",
    "axes[1].plot(pd_df['timestamp'] / 1000 / 60, pd_df['blue'],  'b', label='Blue value in light')\n",
    "for axis in axes:\n",
    "    axis.grid()\n",
    "    axis.legend()"
   ]
  },
  {
   "cell_type": "code",
   "execution_count": null,
   "metadata": {},
   "outputs": [],
   "source": [
    "# Stopping Spark Context\n",
    "sc.stop()"
   ]
  }
 ],
 "metadata": {
  "kernelspec": {
   "display_name": "Python 3",
   "language": "python",
   "name": "python3"
  },
  "language_info": {
   "codemirror_mode": {
    "name": "ipython",
    "version": 3
   },
   "file_extension": ".py",
   "mimetype": "text/x-python",
   "name": "python",
   "nbconvert_exporter": "python",
   "pygments_lexer": "ipython3",
   "version": "3.6.5"
  }
 },
 "nbformat": 4,
 "nbformat_minor": 2
}
